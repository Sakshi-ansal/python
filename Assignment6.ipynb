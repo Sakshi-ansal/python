{
 "cells": [
  {
   "cell_type": "code",
   "execution_count": 6,
   "metadata": {},
   "outputs": [
    {
     "name": "stdout",
     "output_type": "stream",
     "text": [
      "Enter size of list:7\n",
      "Enter elements of list: 5\n",
      "Enter elements of list: 24\n",
      "Enter elements of list: 12\n",
      "Enter elements of list: 9\n",
      "Enter elements of list: 0\n",
      "Enter elements of list: 76\n",
      "Enter elements of list: 24\n",
      "Original list: [5, 24, 12, 9, 0, 76, 24]\n",
      "Sorted List: [0, 5, 9, 12, 24, 24, 76]\n"
     ]
    }
   ],
   "source": [
    "#sort list given by user\n",
    "a=[]\n",
    "n=int(input(\"Enter size of list:\"))\n",
    "for i in range(0,n):\n",
    "    a.append(int(input(\"Enter elements of list: \")))\n",
    "print(\"Original list:\",a)\n",
    "a.sort()\n",
    "print(\"Sorted List:\",a)"
   ]
  },
  {
   "cell_type": "code",
   "execution_count": 7,
   "metadata": {},
   "outputs": [
    {
     "name": "stdout",
     "output_type": "stream",
     "text": [
      "Enter size of list:7\n",
      "Enter a number : 23\n",
      "Enter a number : 0\n",
      "Enter a number : 9\n",
      "Enter a number : 16\n",
      "Enter a number : 52\n",
      "Enter a number : 15\n",
      "Enter a number : 14\n",
      "Gretest Number in the list: 52\n"
     ]
    }
   ],
   "source": [
    "#Greatest no in the list given by user\n",
    "a=[]\n",
    "n=int(input(\"Enter size of list:\"))\n",
    "for i in range(0,n):\n",
    "    a.append(int(input(\"Enter a number : \")))\n",
    "print(\"Gretest Number in the list:\",max(a))"
   ]
  },
  {
   "cell_type": "code",
   "execution_count": 8,
   "metadata": {},
   "outputs": [
    {
     "name": "stdout",
     "output_type": "stream",
     "text": [
      "Enter size of list:6\n",
      "Enter a number : 2\n",
      "Enter a number : 0\n",
      "Enter a number : 9\n",
      "Enter a number : 7\n",
      "Enter a number : 8\n",
      "Enter a number : 1\n",
      "27\n"
     ]
    }
   ],
   "source": [
    "#sum of elements in list\n",
    "a=[]\n",
    "sum=0\n",
    "n=int(input(\"Enter size of list:\"))\n",
    "for i in range(0,n):\n",
    "    a.append(int(input(\"Enter a number : \")))\n",
    "    sum=sum+a[i]\n",
    "print(sum)\n"
   ]
  },
  {
   "cell_type": "code",
   "execution_count": 9,
   "metadata": {},
   "outputs": [
    {
     "name": "stdout",
     "output_type": "stream",
     "text": [
      "Enter value of N:5\n",
      "[1, 4, 9, 16, 25]\n"
     ]
    }
   ],
   "source": [
    "#list of squares of first N natural no\n",
    "a=[]\n",
    "N=int(input(\"Enter value of N:\"))\n",
    "for i in range(1,N+1):\n",
    "    a.append(i**2)\n",
    "print(a)"
   ]
  },
  {
   "cell_type": "code",
   "execution_count": 25,
   "metadata": {},
   "outputs": [
    {
     "name": "stdout",
     "output_type": "stream",
     "text": [
      "Enter the element10\n",
      "0\n",
      "3\n",
      "6\n",
      "7\n"
     ]
    }
   ],
   "source": [
    "#index of all occurences of an elemnet\n",
    "a=[10,2,4,10,3,4,10,10]\n",
    "n=len(a)\n",
    "Element=int(input(\"Enter the element\"))\n",
    "for i in range(0,n):\n",
    "    if a[i]==Element:\n",
    "      print(i)\n",
    "    \n",
    "        \n",
    "      \n",
    "   \n",
    "   "
   ]
  },
  {
   "cell_type": "code",
   "execution_count": 26,
   "metadata": {},
   "outputs": [
    {
     "name": "stdout",
     "output_type": "stream",
     "text": [
      "2\n",
      "2\n",
      "2\n",
      "1\n",
      "3\n",
      "2\n",
      "3\n",
      "3\n",
      "1\n"
     ]
    }
   ],
   "source": [
    "#frequency of distinct element in a list\n",
    "a=[1,3,3,5,10,1,10,10,8]\n",
    "n=len(a)\n",
    "b=[]\n",
    "for i in range(0,n):\n",
    "    print(a.count(a[i]))\n",
    "    "
   ]
  },
  {
   "cell_type": "code",
   "execution_count": 29,
   "metadata": {},
   "outputs": [
    {
     "name": "stdout",
     "output_type": "stream",
     "text": [
      "Enter size of list:6\n",
      "Enter elements of list: 2\n",
      "Enter elements of list: 0\n",
      "Enter elements of list: 1\n",
      "Enter elements of list: 3\n",
      "Enter elements of list: 5\n",
      "Enter elements of list: 6\n",
      "[2, 0, 1, 3, 5, 6]\n",
      "Sum of even no. : 8\n",
      "Sum of odd no. : 9\n"
     ]
    }
   ],
   "source": [
    "#sum of even and odd no in a list\n",
    "a=[]\n",
    "n=int(input(\"Enter size of list:\"))\n",
    "even=0\n",
    "odd=0\n",
    "for i in range(0,n):\n",
    "    a.append(int(input(\"Enter elements of list: \")))\n",
    "print(a)\n",
    "for i in range(0,n):\n",
    "    if a[i]%2==0:\n",
    "        even=even+a[i]\n",
    "    else:\n",
    "        odd=odd+a[i]\n",
    "print(\"Sum of even no. :\",even)\n",
    "print(\"Sum of odd no. :\",odd)"
   ]
  },
  {
   "cell_type": "code",
   "execution_count": 30,
   "metadata": {},
   "outputs": [
    {
     "name": "stdout",
     "output_type": "stream",
     "text": [
      "My first assignment\n"
     ]
    }
   ],
   "source": [
    "print(\"My first assignment\")\n"
   ]
  },
  {
   "cell_type": "code",
   "execution_count": null,
   "metadata": {},
   "outputs": [],
   "source": []
  }
 ],
 "metadata": {
  "kernelspec": {
   "display_name": "Python 3",
   "language": "python",
   "name": "python3"
  },
  "language_info": {
   "codemirror_mode": {
    "name": "ipython",
    "version": 3
   },
   "file_extension": ".py",
   "mimetype": "text/x-python",
   "name": "python",
   "nbconvert_exporter": "python",
   "pygments_lexer": "ipython3",
   "version": "3.7.0"
  }
 },
 "nbformat": 4,
 "nbformat_minor": 2
}
