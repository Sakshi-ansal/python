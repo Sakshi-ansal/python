{
 "cells": [
  {
   "cell_type": "code",
   "execution_count": 4,
   "metadata": {},
   "outputs": [
    {
     "name": "stdout",
     "output_type": "stream",
     "text": [
      "enter a number10\n",
      "11\n"
     ]
    }
   ],
   "source": [
    "#print next prime no. of a given no.\n",
    "a=int(input(\"enter a number\"))\n",
    "for x in range(a+1,2*a):\n",
    "  for num in range(2,x):\n",
    "     if x%num==0:\n",
    "            break\n",
    "  else:\n",
    "    print(x)\n",
    "    break"
   ]
  },
  {
   "cell_type": "code",
   "execution_count": null,
   "metadata": {},
   "outputs": [
    {
     "name": "stdout",
     "output_type": "stream",
     "text": [
      "Enter the value of N :4\n",
      "2\n",
      "3\n"
     ]
    }
   ],
   "source": [
    "#first N prime no.\n",
    "a=int(input(\"Enter the value of N :\"))\n",
    "x=2\n",
    "while x<=a:\n",
    "    for num in range(2,x):\n",
    "        if x%num==0:\n",
    "            break;\n",
    "    else:\n",
    "        print(x)\n",
    "        x=x+1;"
   ]
  },
  {
   "cell_type": "code",
   "execution_count": 9,
   "metadata": {},
   "outputs": [
    {
     "name": "stdout",
     "output_type": "stream",
     "text": [
      "Enter the first number10\n",
      "Enter the second number20\n",
      "11\n",
      "13\n",
      "17\n",
      "19\n"
     ]
    }
   ],
   "source": [
    "#prime numbers between two numbers\n",
    "a=int(input(\"Enter the first number\"))\n",
    "b=int(input('Enter the second number'))\n",
    "for x in range(a,b):\n",
    "   for num in range(2,x):\n",
    "        if x%num==0:\n",
    "            break\n",
    "   else:\n",
    "      print(x)"
   ]
  },
  {
   "cell_type": "code",
   "execution_count": 2,
   "metadata": {},
   "outputs": [
    {
     "name": "stdout",
     "output_type": "stream",
     "text": [
      "Enter the value of N :10\n",
      "19\n",
      "17\n",
      "15\n",
      "13\n",
      "11\n",
      "9\n",
      "7\n",
      "5\n",
      "3\n",
      "1\n"
     ]
    }
   ],
   "source": [
    "#first N odd no. in reverse order\n",
    "a=int(input(\"Enter the value of N :\"))\n",
    "for x in range(a,0,-1):\n",
    "        print((2*x)-1)\n",
    "        \n",
    "        \n",
    "        \n",
    "    "
   ]
  },
  {
   "cell_type": "code",
   "execution_count": 1,
   "metadata": {},
   "outputs": [
    {
     "name": "stdout",
     "output_type": "stream",
     "text": [
      "Enter a number :7\n",
      "Prime\n"
     ]
    }
   ],
   "source": [
    "#prime or not\n",
    "n=int(input(\"Enter a number :\"))\n",
    "flag=0\n",
    "for e in range(2,n//2):\n",
    "    if n%e==0:\n",
    "        flag=1\n",
    "        break\n",
    "if flag==1:\n",
    "       print(\"not prime no\")\n",
    "else:\n",
    "       print(\"Prime\")\n",
    "    "
   ]
  },
  {
   "cell_type": "code",
   "execution_count": null,
   "metadata": {},
   "outputs": [],
   "source": [
    "#first N even no. in reverse order\n",
    "a=int(input(\"Enter the value of N :\"))\n",
    "for x in range(a,0,-1):\n",
    "        print(2*x)"
   ]
  }
 ],
 "metadata": {
  "kernelspec": {
   "display_name": "Python 3",
   "language": "python",
   "name": "python3"
  },
  "language_info": {
   "codemirror_mode": {
    "name": "ipython",
    "version": 3
   },
   "file_extension": ".py",
   "mimetype": "text/x-python",
   "name": "python",
   "nbconvert_exporter": "python",
   "pygments_lexer": "ipython3",
   "version": "3.7.0"
  }
 },
 "nbformat": 4,
 "nbformat_minor": 2
}
