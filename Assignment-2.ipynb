{
 "cells": [
  {
   "cell_type": "code",
   "execution_count": 13,
   "metadata": {},
   "outputs": [
    {
     "name": "stdout",
     "output_type": "stream",
     "text": [
      "enter first wordkachuya\n",
      "enter sec wordloves\n",
      "enter third wordkhargosh\n",
      "loves\n",
      "khargosh\n",
      "kachuya\n"
     ]
    }
   ],
   "source": [
    "#print three words in dictionery order\n",
    "x=input(\"enter first word\")\n",
    "y=input(\"enter sec word\")\n",
    "z=input(\"enter third word\")\n",
    "if x>y and x>z:\n",
    "    if y>z:\n",
    "        print(x,y,z,sep=\"\\n\")\n",
    "    else:\n",
    "        print(x,z,y,sep=\"\\n\")\n",
    "elif y>x and y>z:\n",
    "    if x>z:\n",
    "        print(y,x,z,sep=\"\\n\")\n",
    "    else:\n",
    "        print(y,z,x,sep=\"\\n\")\n",
    "else:\n",
    "    if y>x:\n",
    "        print(z,y,x,sep=\"\\n\")\n",
    "    else:\n",
    "        print(z,x,y,sep=\"\\n\")"
   ]
  },
  {
   "cell_type": "code",
   "execution_count": 23,
   "metadata": {},
   "outputs": [
    {
     "name": "stdout",
     "output_type": "stream",
     "text": [
      "y is greatest\n"
     ]
    }
   ],
   "source": [
    "#Find greatest of three numbers\n",
    "x=3;\n",
    "y=8;\n",
    "z=0;\n",
    "if x>y and x>z:\n",
    "    print(\"x is greatest\")\n",
    "elif y>x and y>z:\n",
    "    print(\"y is greatest\")\n",
    "else:\n",
    "    print(\"z is greatest\")"
   ]
  },
  {
   "cell_type": "code",
   "execution_count": 25,
   "metadata": {},
   "outputs": [
    {
     "name": "stdout",
     "output_type": "stream",
     "text": [
      "Enter the month value 5\n",
      "no. of days is 31\n"
     ]
    }
   ],
   "source": [
    "#take month value in numeric format and display no. of days\n",
    "x=int(input(\"Enter the month value \"))\n",
    "if x==2:\n",
    "    print(\"No. of days is 28/29\")\n",
    "elif x in (1,3,5,7,8,10,12):\n",
    "    print(\"no. of days is 31\")\n",
    "elif x in (4,6,9,11):\n",
    "    print(\"no. of days is 30\")\n",
    "else:\n",
    "    print(\"wrong input\")"
   ]
  },
  {
   "cell_type": "code",
   "execution_count": 43,
   "metadata": {},
   "outputs": [
    {
     "name": "stdout",
     "output_type": "stream",
     "text": [
      "Real roots\n"
     ]
    }
   ],
   "source": [
    "#to determine nature of roots\n",
    "import math\n",
    "a=3;\n",
    "b=8;\n",
    "c=4;\n",
    "D=math.sqrt(b**2 - 4 * a * c)\n",
    "if D>0:\n",
    "    print(\"Real roots\")\n",
    "elif D<0:\n",
    "    print(\"Imaginery roots\")\n",
    "else:\n",
    "    print(\"real and equal roots\")"
   ]
  },
  {
   "cell_type": "code",
   "execution_count": 45,
   "metadata": {},
   "outputs": [
    {
     "name": "stdout",
     "output_type": "stream",
     "text": [
      "Enter a complex number5+8j\n",
      "imaginery part is greater\n"
     ]
    }
   ],
   "source": [
    "#Display greater no. between real and imaginery part of a complex no.\n",
    "x=complex(input(\"Enter a complex number\"))\n",
    "if x.real>x.imag:\n",
    "    print(\"real part is greater\")\n",
    "else:\n",
    "    print(\"imaginery part is greater\")\n",
    "    "
   ]
  },
  {
   "cell_type": "code",
   "execution_count": 6,
   "metadata": {},
   "outputs": [
    {
     "name": "stdout",
     "output_type": "stream",
     "text": [
      "enter marks in 1st subject 89\n",
      "enter marks in 2nd subject79\n",
      "enter marks in 3rd subject 60\n",
      "enter marks in 4th subject94\n",
      "enter marks in 5th subject 85\n",
      "1st division with 81 percentage\n"
     ]
    }
   ],
   "source": [
    "#Student pass/fail report\n",
    "x1=int(input(\"enter marks in 1st subject \"));\n",
    "x2=int(input(\"enter marks in 2nd subject\"));\n",
    "x3=int(input(\"enter marks in 3rd subject \"));\n",
    "x4=int(input(\"enter marks in 4th subject\"));\n",
    "x5=int(input(\"enter marks in 5th subject \"));\n",
    "p=int((x1+x2+x3+x4+x5)/5);\n",
    "if 80<=p<=100:\n",
    "    print(\"1st division with %d percentage\" %(p))\n",
    "elif 65<=p<80:\n",
    "    print(\"2nd division with %d percentage\" %(P))\n",
    "elif 45<=p<65:\n",
    "    print(\"3rd division with %d percentage\" %(P))\n",
    "else:\n",
    "    print(\"Fail\")"
   ]
  },
  {
   "cell_type": "code",
   "execution_count": null,
   "metadata": {},
   "outputs": [],
   "source": []
  }
 ],
 "metadata": {
  "kernelspec": {
   "display_name": "Python 3",
   "language": "python",
   "name": "python3"
  },
  "language_info": {
   "codemirror_mode": {
    "name": "ipython",
    "version": 3
   },
   "file_extension": ".py",
   "mimetype": "text/x-python",
   "name": "python",
   "nbconvert_exporter": "python",
   "pygments_lexer": "ipython3",
   "version": "3.7.0"
  }
 },
 "nbformat": 4,
 "nbformat_minor": 2
}
