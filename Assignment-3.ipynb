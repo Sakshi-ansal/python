{
 "cells": [
  {
   "cell_type": "code",
   "execution_count": 3,
   "metadata": {},
   "outputs": [
    {
     "name": "stdout",
     "output_type": "stream",
     "text": [
      "1\n",
      "2\n",
      "3\n",
      "4\n",
      "5\n",
      "6\n",
      "7\n",
      "8\n",
      "9\n",
      "10\n"
     ]
    }
   ],
   "source": [
    "#print first 10 natural no.\n",
    "x=1;\n",
    "while x<=10:\n",
    "    print(x)\n",
    "    x=x+1;"
   ]
  },
  {
   "cell_type": "code",
   "execution_count": 4,
   "metadata": {},
   "outputs": [
    {
     "name": "stdout",
     "output_type": "stream",
     "text": [
      "10\n",
      "9\n",
      "8\n",
      "7\n",
      "6\n",
      "5\n",
      "4\n",
      "3\n",
      "2\n",
      "1\n"
     ]
    }
   ],
   "source": [
    "#print first 10 natural no. in reverse order\n",
    "x=10;\n",
    "while x>=1:\n",
    "    print(x)\n",
    "    x=x-1;"
   ]
  },
  {
   "cell_type": "code",
   "execution_count": 5,
   "metadata": {},
   "outputs": [
    {
     "name": "stdout",
     "output_type": "stream",
     "text": [
      "1\n",
      "3\n",
      "5\n",
      "7\n",
      "9\n",
      "11\n",
      "13\n",
      "15\n",
      "17\n"
     ]
    }
   ],
   "source": [
    "#first 10 odd no.\n",
    "x=1;\n",
    "while x<10:\n",
    "    print(2*x-1)\n",
    "    x=x+1;\n",
    "    "
   ]
  },
  {
   "cell_type": "code",
   "execution_count": 6,
   "metadata": {},
   "outputs": [
    {
     "name": "stdout",
     "output_type": "stream",
     "text": [
      "2\n",
      "4\n",
      "6\n",
      "8\n",
      "10\n",
      "12\n",
      "14\n",
      "16\n",
      "18\n"
     ]
    }
   ],
   "source": [
    "#first 10 even no.\n",
    "x=1;\n",
    "while x<10:\n",
    "    print(2*x)\n",
    "    x=x+1;"
   ]
  },
  {
   "cell_type": "code",
   "execution_count": 7,
   "metadata": {},
   "outputs": [
    {
     "name": "stdout",
     "output_type": "stream",
     "text": [
      "Enter the value of N 15\n",
      "1\n",
      "2\n",
      "3\n",
      "4\n",
      "5\n",
      "6\n",
      "7\n",
      "8\n",
      "9\n",
      "10\n",
      "11\n",
      "12\n",
      "13\n",
      "14\n",
      "15\n"
     ]
    }
   ],
   "source": [
    "#first N natural no.\n",
    "N=int(input(\"Enter the value of N \"))\n",
    "x=1;\n",
    "while x<=N:\n",
    "    print(x)\n",
    "    x=x+1;"
   ]
  },
  {
   "cell_type": "code",
   "execution_count": 8,
   "metadata": {},
   "outputs": [
    {
     "name": "stdout",
     "output_type": "stream",
     "text": [
      "Enter the value of N 8\n",
      "8\n",
      "7\n",
      "6\n",
      "5\n",
      "4\n",
      "3\n",
      "2\n",
      "1\n"
     ]
    }
   ],
   "source": [
    "#first N natural no. in reverse order\n",
    "N=int(input(\"Enter the value of N \"))\n",
    "x=N;\n",
    "while x>=1:\n",
    "    print(x)\n",
    "    x=x-1;"
   ]
  },
  {
   "cell_type": "code",
   "execution_count": 9,
   "metadata": {},
   "outputs": [
    {
     "name": "stdout",
     "output_type": "stream",
     "text": [
      "Enter the value of N 12\n",
      "78\n"
     ]
    }
   ],
   "source": [
    "#Sum of first N natural no. \n",
    "N=int(input(\"Enter the value of N \"))\n",
    "x=1;\n",
    "sum=0;\n",
    "while x<=N:\n",
    "    sum=sum+x;\n",
    "    x=x+1;\n",
    "print(sum)\n"
   ]
  },
  {
   "cell_type": "code",
   "execution_count": 10,
   "metadata": {},
   "outputs": [
    {
     "name": "stdout",
     "output_type": "stream",
     "text": [
      "Enter the value of N 9\n",
      "81\n"
     ]
    }
   ],
   "source": [
    "#Sum of first N odd natural no. \n",
    "N=int(input(\"Enter the value of N \"))\n",
    "x=1;\n",
    "sum=0;\n",
    "while x<=N:\n",
    "    sum=sum+(2*x-1);\n",
    "    x=x+1;\n",
    "print(sum)"
   ]
  },
  {
   "cell_type": "code",
   "execution_count": 11,
   "metadata": {},
   "outputs": [
    {
     "name": "stdout",
     "output_type": "stream",
     "text": [
      "Enter the value of N 5\n",
      "120\n"
     ]
    }
   ],
   "source": [
    "#factorial of a number\n",
    "N=int(input(\"Enter the value of N \"))\n",
    "fact=1;\n",
    "while N>=1:\n",
    "    fact=fact*N;\n",
    "    N=N-1;\n",
    "print(fact)"
   ]
  },
  {
   "cell_type": "code",
   "execution_count": 12,
   "metadata": {},
   "outputs": [
    {
     "name": "stdout",
     "output_type": "stream",
     "text": [
      "Enter the value of N 3\n",
      "15\n"
     ]
    }
   ],
   "source": [
    "#product of first N odd natural no. \n",
    "N=int(input(\"Enter the value of N \"))\n",
    "x=1;\n",
    "prod=1;\n",
    "while x<=N:\n",
    "    prod=prod*(2*x-1);\n",
    "    x=x+1;\n",
    "print(prod)"
   ]
  },
  {
   "cell_type": "code",
   "execution_count": null,
   "metadata": {},
   "outputs": [],
   "source": []
  }
 ],
 "metadata": {
  "kernelspec": {
   "display_name": "Python 3",
   "language": "python",
   "name": "python3"
  },
  "language_info": {
   "codemirror_mode": {
    "name": "ipython",
    "version": 3
   },
   "file_extension": ".py",
   "mimetype": "text/x-python",
   "name": "python",
   "nbconvert_exporter": "python",
   "pygments_lexer": "ipython3",
   "version": "3.7.0"
  }
 },
 "nbformat": 4,
 "nbformat_minor": 2
}
